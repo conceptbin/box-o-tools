{
 "metadata": {
  "language_info": {
   "codemirror_mode": {
    "name": "ipython",
    "version": 3
   },
   "file_extension": ".py",
   "mimetype": "text/x-python",
   "name": "python",
   "nbconvert_exporter": "python",
   "pygments_lexer": "ipython3",
   "version": "3.8.3"
  },
  "orig_nbformat": 4,
  "kernelspec": {
   "name": "python3",
   "display_name": "Python 3.8.3 64-bit ('shed': conda)"
  },
  "interpreter": {
   "hash": "62fcbb5dab9154c0b426709206d8a108061f97f0eece3f1df02ffd1f94ab950e"
  }
 },
 "nbformat": 4,
 "nbformat_minor": 2,
 "cells": [
  {
   "cell_type": "code",
   "execution_count": null,
   "metadata": {},
   "outputs": [],
   "source": [
    "import pandas as pd\n",
    "from geopy.geocoders import Nominatim"
   ]
  },
  {
   "source": [
    "## Function"
   ],
   "cell_type": "markdown",
   "metadata": {}
  },
  {
   "cell_type": "code",
   "execution_count": null,
   "metadata": {},
   "outputs": [],
   "source": [
    "# Function to get latitude, longitude for postcode, landmark or address from Nominatim\n",
    "def getGeo (search_string):\n",
    "    locator = Nominatim(user_agent='Geosearch') #Specify geocoding service. The user_agent name is arbitrary\n",
    "    location = locator.geocode(search_string)\n",
    "    try:\n",
    "        return(location.longitude, location.latitude)\n",
    "    except AttributeError:\n",
    "        return(0)"
   ]
  },
  {
   "source": [
    "## Load data"
   ],
   "cell_type": "markdown",
   "metadata": {}
  },
  {
   "cell_type": "code",
   "execution_count": null,
   "metadata": {},
   "outputs": [],
   "source": [
    "#Import data to geocode\n",
    "filepath = 'data\\learning-providers.csv'\n",
    "df = pd.read_csv(filepath)"
   ]
  },
  {
   "source": [
    "## Apply getGeo to selected column"
   ],
   "cell_type": "markdown",
   "metadata": {}
  },
  {
   "cell_type": "code",
   "execution_count": null,
   "metadata": {},
   "outputs": [],
   "source": [
    "# Add new column by applying getGeo function to selected column\n",
    "df['coordinates'] = df['POSTCODE'].apply(getGeo)"
   ]
  },
  {
   "cell_type": "code",
   "execution_count": null,
   "metadata": {},
   "outputs": [],
   "source": [
    "# Inspect results\n",
    "df.head()"
   ]
  },
  {
   "source": [
    "## Output\n",
    "Save to CSV"
   ],
   "cell_type": "markdown",
   "metadata": {}
  },
  {
   "cell_type": "code",
   "execution_count": null,
   "metadata": {},
   "outputs": [],
   "source": [
    "filepath = 'output\\geocoding_nominatim_out.csv'\n",
    "df.to_csv(filepath, index=False)"
   ]
  }
 ]
}