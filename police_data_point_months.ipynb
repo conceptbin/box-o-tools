{
 "cells": [
  {
   "cell_type": "markdown",
   "id": "fluid-spray",
   "metadata": {},
   "source": [
    "# Query Police API by specific point and list of months\n",
    "Search the [UK Police Data API for street-level crimes](https://data.police.uk/docs/method/crime-street/) by point (lat/lon) and list of months (YYYY-MM) for all or specific crime types. Returns a dataframe."
   ]
  },
  {
   "cell_type": "markdown",
   "id": "funded-hurricane",
   "metadata": {},
   "source": [
    "## Parameters:\n",
    "Geocode given address/landmark.\n",
    "\n",
    "Specify months and crime category to search for ('all-crime' returns all types for the given month).\n",
    "\n",
    "Specify path for output file."
   ]
  },
  {
   "cell_type": "code",
   "execution_count": 15,
   "id": "centered-algeria",
   "metadata": {},
   "outputs": [],
   "source": [
    "# Geocode address/landmark with Nominatim (latitude, longitude)\n",
    "input_location = 'Hammersmith Station' # Where: Address or landmark (for geocoding)\n",
    "locator = Nominatim(user_agent='PoliceData') #Specify geocoding service. The user_agent name is arbitrary\n",
    "geo_location = locator.geocode(input_location)"
   ]
  },
  {
   "cell_type": "code",
   "execution_count": 16,
   "id": "turkish-numbers",
   "metadata": {},
   "outputs": [],
   "source": [
    "# Police Data API: Months and crime category to search for:\n",
    "months = ['2018-04', '2019-04', '2020-04']\n",
    "# Specify crime type to search for\n",
    "crime_type = 'all-crime'"
   ]
  },
  {
   "cell_type": "code",
   "execution_count": 17,
   "id": "laden-gravity",
   "metadata": {},
   "outputs": [],
   "source": [
    "# Output file (if needed), pickle format:\n",
    "path = r'data\\police_points_month.pkl'"
   ]
  },
  {
   "cell_type": "markdown",
   "id": "heavy-attraction",
   "metadata": {},
   "source": [
    "## Get data from Police API, make dataframe\n",
    "Query the given location, once for each month listed. Returns dataframe."
   ]
  },
  {
   "cell_type": "code",
   "execution_count": 18,
   "id": "monetary-divide",
   "metadata": {},
   "outputs": [],
   "source": [
    "import pandas as pd\n",
    "import requests\n",
    "from geopy.geocoders import Nominatim\n",
    "import json"
   ]
  },
  {
   "cell_type": "code",
   "execution_count": 19,
   "id": "metric-shopper",
   "metadata": {
    "tags": []
   },
   "outputs": [],
   "source": [
    "# Get the crime data for 1-mile radius around given lat/lon point\n",
    "def getCrimePoint(location, month, crime):\n",
    "    # URL and parameters to pass to Police API:\n",
    "    url = ('https://data.police.uk/api/crimes-street')\n",
    "    lat = location.latitude\n",
    "    lng = location.longitude\n",
    "    query = {'lat': lat, 'lng':lng, 'date':month}\n",
    "    # Response-object from API request:\n",
    "    r = requests.get(f\"{url}/{crime}\", params = query)\n",
    "    return(r)"
   ]
  },
  {
   "cell_type": "code",
   "execution_count": 20,
   "id": "regulated-identifier",
   "metadata": {},
   "outputs": [],
   "source": [
    "# Loop through the API response by date, using the getCrimePoly function. \n",
    "# Stack up responses as a list of lists of dicts.\n",
    "crime_list = []\n",
    "for month in months:\n",
    "    crime = getCrimePoint(geo_location, month, crime_type)\n",
    "    crime = crime.json() #Encode API response as JSON\n",
    "    crime_list.append(crime) #Append response to list"
   ]
  },
  {
   "cell_type": "code",
   "execution_count": 21,
   "id": "genuine-injury",
   "metadata": {},
   "outputs": [],
   "source": [
    "# Flatten crime_list into a single list of dicts\n",
    "# from https://stackoverflow.com/a/952952/6023102\n",
    "flat_list = [item for sublist in crime_list for item in sublist]"
   ]
  },
  {
   "cell_type": "code",
   "execution_count": 22,
   "id": "objective-technical",
   "metadata": {},
   "outputs": [],
   "source": [
    "# Make dataframe\n",
    "df = pd.json_normalize(flat_list)"
   ]
  },
  {
   "cell_type": "code",
   "execution_count": 23,
   "id": "portuguese-consistency",
   "metadata": {},
   "outputs": [
    {
     "data": {
      "text/plain": [
       "4052"
      ]
     },
     "execution_count": 23,
     "metadata": {},
     "output_type": "execute_result"
    }
   ],
   "source": [
    "# Number of incidents in dataframe\n",
    "len(df)"
   ]
  },
  {
   "cell_type": "markdown",
   "id": "coastal-bankruptcy",
   "metadata": {},
   "source": [
    "## Save df to pickle\n",
    "Speedy binary file format for loading into a separate notebook for analysis."
   ]
  },
  {
   "cell_type": "code",
   "execution_count": 24,
   "id": "earned-update",
   "metadata": {},
   "outputs": [],
   "source": [
    "# Pickle for use in different notebook for analysis\n",
    "df.to_pickle(path)"
   ]
  }
 ],
 "metadata": {
  "kernelspec": {
   "display_name": "Python 3",
   "language": "python",
   "name": "python3"
  },
  "language_info": {
   "codemirror_mode": {
    "name": "ipython",
    "version": 3
   },
   "file_extension": ".py",
   "mimetype": "text/x-python",
   "name": "python",
   "nbconvert_exporter": "python",
   "pygments_lexer": "ipython3",
   "version": "3.9.2"
  }
 },
 "nbformat": 4,
 "nbformat_minor": 5
}
