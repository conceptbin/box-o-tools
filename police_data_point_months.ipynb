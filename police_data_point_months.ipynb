{
 "cells": [
  {
   "cell_type": "markdown",
   "id": "fluid-spray",
   "metadata": {},
   "source": [
    "# Query Police API by specific point and list of months\n",
    "Search the [UK Police Data API for street-level crimes](https://data.police.uk/docs/method/crime-street/) by point (lat/lon) and list of months (YYYY-MM) for all or specific crime types. Returns a dataframe."
   ]
  },
  {
   "cell_type": "markdown",
   "id": "funded-hurricane",
   "metadata": {},
   "source": [
    "## Parameters:\n",
    "Geocode given address/landmark.\n",
    "\n",
    "Specify months and crime category to search for ('all-crime' returns all types for the given month).\n",
    "\n",
    "Specify path for output file."
   ]
  },
  {
   "cell_type": "code",
   "execution_count": 2,
   "id": "monetary-divide",
   "metadata": {},
   "outputs": [],
   "source": [
    "import pandas as pd\n",
    "import requests\n",
    "from geopy.geocoders import Nominatim\n",
    "import json"
   ]
  },
  {
   "cell_type": "code",
   "execution_count": 3,
   "id": "centered-algeria",
   "metadata": {},
   "outputs": [],
   "source": [
    "# Geocode address/landmark with Nominatim (latitude, longitude)\n",
    "input_location = 'Imperial College' # Where: Address or landmark (for geocoding)\n",
    "locator = Nominatim(user_agent='PoliceData') #Specify geocoding service. The user_agent name is arbitrary\n",
    "geo_location = locator.geocode(input_location)"
   ]
  },
  {
   "cell_type": "code",
   "execution_count": 4,
   "id": "turkish-numbers",
   "metadata": {},
   "outputs": [],
   "source": [
    "# Police Data API: Months and crime category to search for:\n",
    "months = ['2021-08']\n",
    "# Specify crime type to search for\n",
    "crime_type = 'all-crime'"
   ]
  },
  {
   "cell_type": "markdown",
   "id": "heavy-attraction",
   "metadata": {},
   "source": [
    "## Get data from Police API, make dataframe\n",
    "Query the given location, once for each month listed. Returns dataframe."
   ]
  },
  {
   "cell_type": "code",
   "execution_count": 6,
   "id": "metric-shopper",
   "metadata": {
    "tags": []
   },
   "outputs": [],
   "source": [
    "# Get the crime data for 1-mile radius around given lat/lon point\n",
    "def getCrimePoint(location, month, crime):\n",
    "    # URL and parameters to pass to Police API:\n",
    "    url = ('https://data.police.uk/api/crimes-street')\n",
    "    lat = location.latitude\n",
    "    lng = location.longitude\n",
    "    query = {'lat': lat, 'lng':lng, 'date':month}\n",
    "    # Response-object from API request:\n",
    "    r = requests.get(f\"{url}/{crime}\", params = query)\n",
    "    return(r)"
   ]
  },
  {
   "cell_type": "code",
   "execution_count": 7,
   "id": "regulated-identifier",
   "metadata": {},
   "outputs": [],
   "source": [
    "# Loop through the API response by date, using the getCrimePoly function. \n",
    "# Stack up responses as a list of lists of dicts.\n",
    "crime_list = []\n",
    "for month in months:\n",
    "    crime = getCrimePoint(geo_location, month, crime_type)\n",
    "    crime = crime.json() #Encode API response as JSON\n",
    "    crime_list.append(crime) #Append response to list"
   ]
  },
  {
   "cell_type": "code",
   "execution_count": 8,
   "id": "genuine-injury",
   "metadata": {},
   "outputs": [],
   "source": [
    "# Flatten crime_list into a single list of dicts\n",
    "# from https://stackoverflow.com/a/952952/6023102\n",
    "flat_list = [item for sublist in crime_list for item in sublist]"
   ]
  },
  {
   "cell_type": "code",
   "execution_count": 9,
   "id": "objective-technical",
   "metadata": {},
   "outputs": [],
   "source": [
    "# Make dataframe\n",
    "df = pd.json_normalize(flat_list)"
   ]
  },
  {
   "cell_type": "code",
   "execution_count": 10,
   "id": "portuguese-consistency",
   "metadata": {},
   "outputs": [
    {
     "data": {
      "text/plain": [
       "1199"
      ]
     },
     "execution_count": 10,
     "metadata": {},
     "output_type": "execute_result"
    }
   ],
   "source": [
    "# Number of incidents in dataframe\n",
    "len(df)"
   ]
  },
  {
   "cell_type": "code",
   "execution_count": 11,
   "metadata": {},
   "outputs": [
    {
     "data": {
      "text/plain": [
       "Index(['category', 'location_type', 'context', 'outcome_status',\n",
       "       'persistent_id', 'id', 'location_subtype', 'month', 'location.latitude',\n",
       "       'location.street.id', 'location.street.name', 'location.longitude',\n",
       "       'outcome_status.category', 'outcome_status.date'],\n",
       "      dtype='object')"
      ]
     },
     "execution_count": 11,
     "metadata": {},
     "output_type": "execute_result"
    }
   ],
   "source": [
    "df.keys()"
   ]
  },
  {
   "cell_type": "code",
   "execution_count": 19,
   "metadata": {},
   "outputs": [],
   "source": [
    "crime_types = df.groupby('category')['id'].agg('count').reset_index()\n",
    "crime_types.sort_values(by='id', ascending=False, inplace=True)"
   ]
  },
  {
   "cell_type": "code",
   "execution_count": 20,
   "metadata": {},
   "outputs": [
    {
     "data": {
      "text/html": [
       "<div>\n",
       "<style scoped>\n",
       "    .dataframe tbody tr th:only-of-type {\n",
       "        vertical-align: middle;\n",
       "    }\n",
       "\n",
       "    .dataframe tbody tr th {\n",
       "        vertical-align: top;\n",
       "    }\n",
       "\n",
       "    .dataframe thead th {\n",
       "        text-align: right;\n",
       "    }\n",
       "</style>\n",
       "<table border=\"1\" class=\"dataframe\">\n",
       "  <thead>\n",
       "    <tr style=\"text-align: right;\">\n",
       "      <th></th>\n",
       "      <th>category</th>\n",
       "      <th>id</th>\n",
       "    </tr>\n",
       "  </thead>\n",
       "  <tbody>\n",
       "    <tr>\n",
       "      <th>0</th>\n",
       "      <td>anti-social-behaviour</td>\n",
       "      <td>249</td>\n",
       "    </tr>\n",
       "    <tr>\n",
       "      <th>12</th>\n",
       "      <td>violent-crime</td>\n",
       "      <td>211</td>\n",
       "    </tr>\n",
       "    <tr>\n",
       "      <th>6</th>\n",
       "      <td>other-theft</td>\n",
       "      <td>180</td>\n",
       "    </tr>\n",
       "    <tr>\n",
       "      <th>11</th>\n",
       "      <td>vehicle-crime</td>\n",
       "      <td>139</td>\n",
       "    </tr>\n",
       "    <tr>\n",
       "      <th>9</th>\n",
       "      <td>shoplifting</td>\n",
       "      <td>87</td>\n",
       "    </tr>\n",
       "    <tr>\n",
       "      <th>7</th>\n",
       "      <td>public-order</td>\n",
       "      <td>67</td>\n",
       "    </tr>\n",
       "    <tr>\n",
       "      <th>2</th>\n",
       "      <td>burglary</td>\n",
       "      <td>64</td>\n",
       "    </tr>\n",
       "    <tr>\n",
       "      <th>10</th>\n",
       "      <td>theft-from-the-person</td>\n",
       "      <td>58</td>\n",
       "    </tr>\n",
       "    <tr>\n",
       "      <th>1</th>\n",
       "      <td>bicycle-theft</td>\n",
       "      <td>39</td>\n",
       "    </tr>\n",
       "    <tr>\n",
       "      <th>3</th>\n",
       "      <td>criminal-damage-arson</td>\n",
       "      <td>34</td>\n",
       "    </tr>\n",
       "    <tr>\n",
       "      <th>8</th>\n",
       "      <td>robbery</td>\n",
       "      <td>32</td>\n",
       "    </tr>\n",
       "    <tr>\n",
       "      <th>4</th>\n",
       "      <td>drugs</td>\n",
       "      <td>30</td>\n",
       "    </tr>\n",
       "    <tr>\n",
       "      <th>5</th>\n",
       "      <td>other-crime</td>\n",
       "      <td>9</td>\n",
       "    </tr>\n",
       "  </tbody>\n",
       "</table>\n",
       "</div>"
      ],
      "text/plain": [
       "                 category   id\n",
       "0   anti-social-behaviour  249\n",
       "12          violent-crime  211\n",
       "6             other-theft  180\n",
       "11          vehicle-crime  139\n",
       "9             shoplifting   87\n",
       "7            public-order   67\n",
       "2                burglary   64\n",
       "10  theft-from-the-person   58\n",
       "1           bicycle-theft   39\n",
       "3   criminal-damage-arson   34\n",
       "8                 robbery   32\n",
       "4                   drugs   30\n",
       "5             other-crime    9"
      ]
     },
     "execution_count": 20,
     "metadata": {},
     "output_type": "execute_result"
    }
   ],
   "source": [
    "crime_types"
   ]
  },
  {
   "cell_type": "markdown",
   "id": "coastal-bankruptcy",
   "metadata": {},
   "source": [
    "## Save df to pickle\n",
    "Speedy binary file format for loading into a separate notebook for analysis."
   ]
  },
  {
   "cell_type": "code",
   "execution_count": 5,
   "id": "laden-gravity",
   "metadata": {},
   "outputs": [],
   "source": [
    "# Output file (if needed), pickle format:\n",
    "path = r'data\\police_points_month.pkl'"
   ]
  },
  {
   "cell_type": "code",
   "execution_count": null,
   "id": "earned-update",
   "metadata": {},
   "outputs": [],
   "source": [
    "# Pickle for use in different notebook for analysis\n",
    "df.to_pickle(path)"
   ]
  }
 ],
 "metadata": {
  "interpreter": {
   "hash": "f9f3e9a5f7232d919ec54e5a8d57ac698d628074afff90ad68538a42710e470e"
  },
  "kernelspec": {
   "display_name": "Python 3.9.5 64-bit ('shed_py39': conda)",
   "name": "python3"
  },
  "language_info": {
   "codemirror_mode": {
    "name": "ipython",
    "version": 3
   },
   "file_extension": ".py",
   "mimetype": "text/x-python",
   "name": "python",
   "nbconvert_exporter": "python",
   "pygments_lexer": "ipython3",
   "version": "3.9.5"
  }
 },
 "nbformat": 4,
 "nbformat_minor": 5
}
