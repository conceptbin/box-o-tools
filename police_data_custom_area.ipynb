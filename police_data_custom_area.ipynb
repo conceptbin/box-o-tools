{
 "cells": [
  {
   "cell_type": "markdown",
   "id": "ordinary-officer",
   "metadata": {},
   "source": [
    "# Query Police API by custom area and list of months\n",
    "Search the [UK Police Data API for street-level crimes](https://data.police.uk/docs/method/crime-street/) by custom area (polygon) and list of dates (YYYY-MM). Returns a dataframe, which can be used for time series analysis."
   ]
  },
  {
   "cell_type": "code",
   "execution_count": 1,
   "id": "usual-watson",
   "metadata": {},
   "outputs": [],
   "source": [
    "import pandas as pd\n",
    "import requests\n",
    "import json"
   ]
  },
  {
   "cell_type": "markdown",
   "id": "architectural-plain",
   "metadata": {},
   "source": [
    "## Parameters"
   ]
  },
  {
   "cell_type": "code",
   "execution_count": 2,
   "id": "double-hostel",
   "metadata": {},
   "outputs": [],
   "source": [
    "# Polygon (map area) made up of lat/lon pairs separated by colon\n",
    "coordinates = '53.551249, -2.261568:53.521023, -2.367319:53.441223, -2.334926:53.398735, -2.235113:53.428009, -2.123416:53.519243, -2.136487'\n",
    "# Map centre\n",
    "lat = '53.477384'\n",
    "lng = '-2.241335'"
   ]
  },
  {
   "cell_type": "code",
   "execution_count": 3,
   "id": "therapeutic-vitamin",
   "metadata": {},
   "outputs": [],
   "source": [
    "# List of dates for search\n",
    "# input_dates = ['2020-01', '2020-02', '2020-03', '2020-04', '2020-05', '2020-06', '2020-07', '2020-09', '2020-10', '2020-11', '2020-12']\n",
    "input_dates = ['2020-01', '2020-02']\n",
    "# Specify crime type to search for\n",
    "input_crime = 'all-crime'"
   ]
  },
  {
   "cell_type": "markdown",
   "id": "analyzed-isaac",
   "metadata": {},
   "source": [
    "## Get data from Police API, make dataframe"
   ]
  },
  {
   "cell_type": "code",
   "execution_count": 6,
   "id": "laughing-electronics",
   "metadata": {
    "tags": []
   },
   "outputs": [],
   "source": [
    "# Get the crime data by polygon\n",
    "def getCrimePoly(poly, date, input_crime):\n",
    "    url = ('https://data.police.uk/api/crimes-street')\n",
    "    query = {'poly':poly, 'date':date}\n",
    "    #Send API request\n",
    "    response = requests.get(f\"{url}/{input_crime}\", params=query)\n",
    "    return(response)"
   ]
  },
  {
   "cell_type": "code",
   "execution_count": 7,
   "id": "front-champagne",
   "metadata": {},
   "outputs": [],
   "source": [
    "# Loop through the API response by date, using the getCrimePoly function. \n",
    "# Stack up responses as a list of lists of dicts.\n",
    "crime_list = []\n",
    "for date in input_dates:\n",
    "    crime = getCrimePoly(coordinates, date, input_crime)\n",
    "    crime = crime.json() #Encode API response as JSON\n",
    "    crime_list.append(crime) #Append response to list"
   ]
  },
  {
   "cell_type": "code",
   "execution_count": 9,
   "id": "quick-ability",
   "metadata": {},
   "outputs": [],
   "source": [
    "# Flatten crime_list into a single list of dicts\n",
    "# from https://stackoverflow.com/a/952952/6023102\n",
    "flat_list = [item for sublist in crime_list for item in sublist]"
   ]
  },
  {
   "cell_type": "code",
   "execution_count": 10,
   "id": "located-point",
   "metadata": {},
   "outputs": [],
   "source": [
    "# Make dataframe\n",
    "df = pd.json_normalize(flat_list)"
   ]
  },
  {
   "cell_type": "code",
   "execution_count": 11,
   "id": "controlling-auction",
   "metadata": {},
   "outputs": [
    {
     "data": {
      "text/plain": [
       "235"
      ]
     },
     "execution_count": 11,
     "metadata": {},
     "output_type": "execute_result"
    }
   ],
   "source": [
    "# Number of incidents in dataframe\n",
    "len(df)"
   ]
  },
  {
   "cell_type": "code",
   "execution_count": null,
   "id": "static-music",
   "metadata": {},
   "outputs": [],
   "source": []
  }
 ],
 "metadata": {
  "kernelspec": {
   "display_name": "Python 3",
   "language": "python",
   "name": "python3"
  },
  "language_info": {
   "codemirror_mode": {
    "name": "ipython",
    "version": 3
   },
   "file_extension": ".py",
   "mimetype": "text/x-python",
   "name": "python",
   "nbconvert_exporter": "python",
   "pygments_lexer": "ipython3",
   "version": "3.9.2"
  }
 },
 "nbformat": 4,
 "nbformat_minor": 5
}
